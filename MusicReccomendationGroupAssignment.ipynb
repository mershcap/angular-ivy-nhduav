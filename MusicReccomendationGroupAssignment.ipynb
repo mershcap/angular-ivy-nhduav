{
  "nbformat": 4,
  "nbformat_minor": 0,
  "metadata": {
    "colab": {
      "name": "MusicReccomendationGroupAssignment.ipynb",
      "provenance": [],
      "collapsed_sections": [],
      "include_colab_link": true
    },
    "kernelspec": {
      "name": "python3",
      "display_name": "Python 3"
    },
    "language_info": {
      "name": "python"
    }
  },
  "cells": [
    {
      "cell_type": "markdown",
      "metadata": {
        "id": "view-in-github",
        "colab_type": "text"
      },
      "source": [
        "<a href=\"https://colab.research.google.com/github/mershcap/angular-ivy-nhduav/blob/master/MusicReccomendationGroupAssignment.ipynb\" target=\"_parent\"><img src=\"https://colab.research.google.com/assets/colab-badge.svg\" alt=\"Open In Colab\"/></a>"
      ]
    },
    {
      "cell_type": "code",
      "metadata": {
        "colab": {
          "base_uri": "https://localhost:8080/"
        },
        "id": "bPKL2kudUP7A",
        "outputId": "644de064-a79f-4516-cc37-c8d3bc69e921"
      },
      "source": [
        "#Group project \n",
        "#R195907K Munyaradzi Togarepi\n",
        "#R195897M Daniel Makona\n",
        "#R179886Q Delight Ncube\n",
        "import csv\n",
        "import pandas as pd\n",
        "import json\n",
        "import numpy\n",
        "import tensorflow as tf\n",
        "from google.colab import drive\n",
        "drive.mount('/content/drive')"
      ],
      "execution_count": null,
      "outputs": [
        {
          "output_type": "stream",
          "text": [
            "Drive already mounted at /content/drive; to attempt to forcibly remount, call drive.mount(\"/content/drive\", force_remount=True).\n"
          ],
          "name": "stdout"
        }
      ]
    },
    {
      "cell_type": "code",
      "metadata": {
        "id": "EM6m4E6NUqVW"
      },
      "source": [
        "###class for a song object used in representing every song in the array list of songs\n",
        "class Song:\n",
        "\tdef __init__(self,number, artist,name, dance ,energy, loud, duration):\n",
        "\t\tself.number=number\n",
        "\t\tself.artist=artist\n",
        "\t\tself.name=name\n",
        "\t\tself.dance=dance\n",
        "\t\tself.energy=energy\n",
        "\t\tself.loud=loud\n",
        "\t\tself.duration=duration"
      ],
      "execution_count": null,
      "outputs": []
    },
    {
      "cell_type": "code",
      "metadata": {
        "id": "D6PCDS4KU_dq"
      },
      "source": [
        "###method used in calculating song preference level by the user\n",
        "def Wishman_score(song,user):\n",
        "\tda=song.dance/user.dance\n",
        "\ten=song.energy/user.energy\n",
        "\tlo=song.loud/user.loud\n",
        "\tdu=song.duration/user.duration\n",
        "\t\n",
        "\twishman=da+(en+(lo+du))\n",
        "\treturn wishman"
      ],
      "execution_count": null,
      "outputs": []
    },
    {
      "cell_type": "code",
      "metadata": {
        "id": "zB8mVjA9VXvs"
      },
      "source": [
        "#reading csv data and sorting the songs as an array of songs object\n",
        "songs=[]\n",
        "with open('/content/drive/My Drive/Colab Notebooks/songs.csv',\"r\") as f:\n",
        "\tdata=csv.reader(f)\n",
        "\theader=next(data)\n",
        "\tsize=1\n",
        "\tfor line in data:\n",
        "\t\tartist=line[2]\n",
        "\t\tname=line[1]\n",
        "\t\tdance=float(line[3])\n",
        "\t\tenergy=float(line[4])\n",
        "\t\tloud=float(line[6])\n",
        "\t\tduration=float(line[14])\n",
        "\t\tsong=Song(size,artist,name,dance,energy, loud,duration)\n",
        "\t\tsongs.append(song)\n",
        "\t\tsize=size+1"
      ],
      "execution_count": null,
      "outputs": []
    },
    {
      "cell_type": "code",
      "metadata": {
        "colab": {
          "base_uri": "https://localhost:8080/"
        },
        "id": "pxzle4L6ZXK0",
        "outputId": "d55e3460-d3cb-4c2a-9b46-1ec0639945ec"
      },
      "source": [
        "#printing first ten songs\n",
        "x=0\n",
        "while(x<10):\n",
        "  print(songs[x].artist+\" - \"+songs[x].name)\n",
        "  x=x+1\n"
      ],
      "execution_count": null,
      "outputs": [
        {
          "output_type": "stream",
          "text": [
            "Ed Sheeran - Shape of You\n",
            "Luis Fonsi - Despacito - Remix\n",
            "Luis Fonsi - Despacito (Featuring Daddy Yankee)\n",
            "The Chainsmokers - Something Just Like This\n",
            "DJ Khaled - I'm the One\n",
            "Kendrick Lamar - HUMBLE.\n",
            "Kygo - It Ain't Me (with Selena Gomez)\n",
            "French Montana - Unforgettable\n",
            "Bruno Mars - That's What I Like\n",
            "ZAYN - I Don’t Wanna Live Forever (Fifty Shades Darker) - From \"Fifty Shades Darker (Original Motion Picture Soundtrack)\"\n"
          ],
          "name": "stdout"
        }
      ]
    },
    {
      "cell_type": "code",
      "metadata": {
        "colab": {
          "base_uri": "https://localhost:8080/"
        },
        "id": "6KApJcqeWZmx",
        "outputId": "c1837dca-8b6d-4dd0-85c0-2c7cccfa2723"
      },
      "source": [
        "#creating playlist and letting user pick songs then reccomend\n",
        "#we have used content based filtering where we calculate a score for a song\n",
        "#compared to what the user prefers and then rank songs based on the ones with \n",
        "#score close to what the user prefers(explotation mechanism).\n",
        "bluff=1\n",
        "\n",
        "#start running loop\n",
        "while(bluff>0):\n",
        "\ti=bluff-1\n",
        "\tprint(\"-------->>>>>>>><<<<<<<<---------\")\n",
        "\tuser=Song(i,songs[i].artist, songs[i].name, songs[i].dance, songs[i].energy, songs[i].loud, songs[i].duration)\n",
        "\tprint(\"currently playing:   \" + user.artist + \" - \" + user.name)\n",
        "\t\n",
        "\t#create recomendation play list\n",
        "\tprint(\"recomended play list:\")\n",
        "\twishmans=[]\n",
        "\tfor song in songs:\n",
        "\t\twishmans.append(Wishman_score(song,user))\n",
        "\t\n",
        "\t#picking the songs with the best wishmans\n",
        "\t#ideal song has wishmn score of 5\n",
        "\t#recomendation should pick songs most close to 5\n",
        "\t\n",
        "\tcloseness=[]\n",
        "\tfor wishman in wishmans:\n",
        "\t\tif(wishman<4):\n",
        "\t\t\tcloseness.append(4-wishman)\n",
        "\t\telse:\n",
        "\t\t\tcloseness.append(wishman-4)\n",
        "\t\t\n",
        "\t#picking up the songs\n",
        "\tsong_numbers=[]\n",
        "\tx=0\n",
        "\t#those greater close, 6 songs\n",
        "\tsub1=closeness\n",
        "\twhile(x<7):\n",
        "\t\tj=1\n",
        "\t\tnumber=0\n",
        "\t\tlast=100\n",
        "\t\tfor n in sub1:\n",
        "\t\t\tif((n<last)&(n!=-1)):\n",
        "\t\t\t\tlast=n\n",
        "\t\t\t\tnumber=j\n",
        "\t\t\telse:\n",
        "\t\t\t\tpass\n",
        "\t\t\tj=j+1\n",
        "\t\tsong_numbers.append(number)\n",
        "\t\tx=x+1\n",
        "\t\t#remove the found number\n",
        "\t\tj=1\n",
        "\t\tsub2=[]\n",
        "\t\tfor k in sub1:\n",
        "\t\t\tif(j==number):\n",
        "\t\t\t\tsub2.append(-1)\n",
        "\t\t\telse:\n",
        "\t\t\t\tsub2.append(k)\n",
        "\t\t\tj=j+1\n",
        "\t\tsub1=sub2\n",
        "\t\t\n",
        "\tfor n in song_numbers:\n",
        "\t\tprint(str(songs[n-1].number) + \"  \" + songs[n-1].artist + \" - \" + songs[n-1].name)\n",
        "\tprint(\"        \")\n",
        "\tprint(\"Please select song number or 0 to quit\")\n",
        "\tprint(\"------>>>>>>><<<<<<--------\")\n",
        "\tbluff=int(input())"
      ],
      "execution_count": null,
      "outputs": [
        {
          "output_type": "stream",
          "text": [
            "-------->>>>>>>><<<<<<<<---------\n",
            "currently playing:   Ed Sheeran - Shape of You\n",
            "recomended play list:\n",
            "1  Ed Sheeran - Shape of You\n",
            "50  Camila Cabello - Havana\n",
            "56  Enrique Iglesias - SUBEME LA RADIO\n",
            "48  Shakira - Chantaje\n",
            "21  J Balvin - Mi Gente\n",
            "92  Rita Ora - Your Song\n",
            "81  Hailee Steinfeld - Starving\n",
            "        \n",
            "Please select song number or 0 to quit\n",
            "------>>>>>>><<<<<<--------\n",
            "56\n",
            "-------->>>>>>>><<<<<<<<---------\n",
            "currently playing:   Enrique Iglesias - SUBEME LA RADIO\n",
            "recomended play list:\n",
            "56  Enrique Iglesias - SUBEME LA RADIO\n",
            "48  Shakira - Chantaje\n",
            "21  J Balvin - Mi Gente\n",
            "81  Hailee Steinfeld - Starving\n",
            "100  ZAYN - Dusk Till Dawn - Radio Edit\n",
            "1  Ed Sheeran - Shape of You\n",
            "83  AJR - Weak\n",
            "        \n",
            "Please select song number or 0 to quit\n",
            "------>>>>>>><<<<<<--------\n",
            "21\n",
            "-------->>>>>>>><<<<<<<<---------\n",
            "currently playing:   J Balvin - Mi Gente\n",
            "recomended play list:\n",
            "21  J Balvin - Mi Gente\n",
            "51  Martin Jensen - Solo Dance\n",
            "27  Ed Sheeran - Galway Girl\n",
            "33  DJ Khaled - Wild Thoughts\n",
            "81  Hailee Steinfeld - Starving\n",
            "87  Martin Garrix - In the Name of Love\n",
            "23  James Arthur - Say You Won't Let Go\n",
            "        \n",
            "Please select song number or 0 to quit\n",
            "------>>>>>>><<<<<<--------\n",
            "0\n"
          ],
          "name": "stdout"
        }
      ]
    }
  ]
}